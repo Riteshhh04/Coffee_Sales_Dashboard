{
 "cells": [
  {
   "cell_type": "code",
   "execution_count": 1,
   "id": "16d7aab3-1876-466d-974c-7c662ffb45d1",
   "metadata": {},
   "outputs": [
    {
     "name": "stdout",
     "output_type": "stream",
     "text": [
      "<class 'pandas.core.frame.DataFrame'>\n",
      "RangeIndex: 1133 entries, 0 to 1132\n",
      "Data columns (total 6 columns):\n",
      " #   Column       Non-Null Count  Dtype  \n",
      "---  ------       --------------  -----  \n",
      " 0   date         1133 non-null   object \n",
      " 1   datetime     1133 non-null   object \n",
      " 2   cash_type    1133 non-null   object \n",
      " 3   card         1044 non-null   object \n",
      " 4   money        1133 non-null   float64\n",
      " 5   coffee_name  1133 non-null   object \n",
      "dtypes: float64(1), object(5)\n",
      "memory usage: 53.2+ KB\n"
     ]
    },
    {
     "data": {
      "text/html": [
       "<div>\n",
       "<style scoped>\n",
       "    .dataframe tbody tr th:only-of-type {\n",
       "        vertical-align: middle;\n",
       "    }\n",
       "\n",
       "    .dataframe tbody tr th {\n",
       "        vertical-align: top;\n",
       "    }\n",
       "\n",
       "    .dataframe thead th {\n",
       "        text-align: right;\n",
       "    }\n",
       "</style>\n",
       "<table border=\"1\" class=\"dataframe\">\n",
       "  <thead>\n",
       "    <tr style=\"text-align: right;\">\n",
       "      <th></th>\n",
       "      <th>date</th>\n",
       "      <th>datetime</th>\n",
       "      <th>cash_type</th>\n",
       "      <th>card</th>\n",
       "      <th>money</th>\n",
       "      <th>coffee_name</th>\n",
       "    </tr>\n",
       "  </thead>\n",
       "  <tbody>\n",
       "    <tr>\n",
       "      <th>0</th>\n",
       "      <td>2024-03-01</td>\n",
       "      <td>2024-03-01 10:15:50.520</td>\n",
       "      <td>card</td>\n",
       "      <td>ANON-0000-0000-0001</td>\n",
       "      <td>38.7</td>\n",
       "      <td>Latte</td>\n",
       "    </tr>\n",
       "    <tr>\n",
       "      <th>1</th>\n",
       "      <td>2024-03-01</td>\n",
       "      <td>2024-03-01 12:19:22.539</td>\n",
       "      <td>card</td>\n",
       "      <td>ANON-0000-0000-0002</td>\n",
       "      <td>38.7</td>\n",
       "      <td>Hot Chocolate</td>\n",
       "    </tr>\n",
       "    <tr>\n",
       "      <th>2</th>\n",
       "      <td>2024-03-01</td>\n",
       "      <td>2024-03-01 12:20:18.089</td>\n",
       "      <td>card</td>\n",
       "      <td>ANON-0000-0000-0002</td>\n",
       "      <td>38.7</td>\n",
       "      <td>Hot Chocolate</td>\n",
       "    </tr>\n",
       "    <tr>\n",
       "      <th>3</th>\n",
       "      <td>2024-03-01</td>\n",
       "      <td>2024-03-01 13:46:33.006</td>\n",
       "      <td>card</td>\n",
       "      <td>ANON-0000-0000-0003</td>\n",
       "      <td>28.9</td>\n",
       "      <td>Americano</td>\n",
       "    </tr>\n",
       "    <tr>\n",
       "      <th>4</th>\n",
       "      <td>2024-03-01</td>\n",
       "      <td>2024-03-01 13:48:14.626</td>\n",
       "      <td>card</td>\n",
       "      <td>ANON-0000-0000-0004</td>\n",
       "      <td>38.7</td>\n",
       "      <td>Latte</td>\n",
       "    </tr>\n",
       "  </tbody>\n",
       "</table>\n",
       "</div>"
      ],
      "text/plain": [
       "         date                 datetime cash_type                 card  money  \\\n",
       "0  2024-03-01  2024-03-01 10:15:50.520      card  ANON-0000-0000-0001   38.7   \n",
       "1  2024-03-01  2024-03-01 12:19:22.539      card  ANON-0000-0000-0002   38.7   \n",
       "2  2024-03-01  2024-03-01 12:20:18.089      card  ANON-0000-0000-0002   38.7   \n",
       "3  2024-03-01  2024-03-01 13:46:33.006      card  ANON-0000-0000-0003   28.9   \n",
       "4  2024-03-01  2024-03-01 13:48:14.626      card  ANON-0000-0000-0004   38.7   \n",
       "\n",
       "     coffee_name  \n",
       "0          Latte  \n",
       "1  Hot Chocolate  \n",
       "2  Hot Chocolate  \n",
       "3      Americano  \n",
       "4          Latte  "
      ]
     },
     "execution_count": 1,
     "metadata": {},
     "output_type": "execute_result"
    }
   ],
   "source": [
    "import pandas as pd\n",
    "\n",
    "# Load the CSV file\n",
    "df = pd.read_csv(\"Dataset.csv\")\n",
    "\n",
    "# View basic info\n",
    "df.info()\n",
    "df.head()"
   ]
  },
  {
   "cell_type": "code",
   "execution_count": 2,
   "id": "2f63579e-6ca2-47a2-b97e-9a37ceca7dd6",
   "metadata": {},
   "outputs": [],
   "source": [
    "#Convert datetime Column to Datetime Format\n",
    "df['datetime'] = pd.to_datetime(df['datetime'])\n"
   ]
  },
  {
   "cell_type": "code",
   "execution_count": 3,
   "id": "95410556-a9b1-42e8-841c-94ec4dba6cda",
   "metadata": {},
   "outputs": [],
   "source": [
    "#Handle Missing Values in card Column\n",
    "# Fill NaN card values with \"Cash_Payment\"\n",
    "df['card'] = df['card'].fillna(\"Cash_Payment\")"
   ]
  },
  {
   "cell_type": "code",
   "execution_count": 4,
   "id": "a97d4d09-3d4b-48f4-a4d0-06fe0f99bff3",
   "metadata": {},
   "outputs": [],
   "source": [
    "#Create New Feature Columns\n"
   ]
  },
  {
   "cell_type": "code",
   "execution_count": 5,
   "id": "6f66f035-85f1-4812-98bc-10b2afc5e5d0",
   "metadata": {},
   "outputs": [],
   "source": [
    "df['hour'] = df['datetime'].dt.hour\n"
   ]
  },
  {
   "cell_type": "code",
   "execution_count": 6,
   "id": "14b8c82d-a72b-480e-b3dd-e85788605ea2",
   "metadata": {},
   "outputs": [],
   "source": [
    "df['day_of_week'] = df['datetime'].dt.day_name()"
   ]
  },
  {
   "cell_type": "code",
   "execution_count": 7,
   "id": "4453979e-8d48-4834-b28d-df250cc348c3",
   "metadata": {},
   "outputs": [],
   "source": [
    "df['is_weekend'] = df['day_of_week'].isin(['Saturday', 'Sunday'])"
   ]
  },
  {
   "cell_type": "code",
   "execution_count": 8,
   "id": "fa46fd58-f5fe-486d-9b88-7c60b20d941c",
   "metadata": {},
   "outputs": [],
   "source": [
    "def categorize_coffee(name):\n",
    "    name = name.lower()\n",
    "    \n",
    "    if name in ['latte', 'cappuccino', 'americano with milk', 'cortado']:\n",
    "        return 'Milk-based'\n",
    "    elif name in ['americano', 'espresso']:\n",
    "        return 'Espresso-based'\n",
    "    elif name in ['hot chocolate', 'cocoa']:\n",
    "        return 'Chocolate-based'\n",
    "    else:\n",
    "        return 'Other'\n"
   ]
  },
  {
   "cell_type": "code",
   "execution_count": 9,
   "id": "0088471d-061e-42d6-8d1c-0a13df18c0a3",
   "metadata": {},
   "outputs": [],
   "source": [
    "df['coffee_category'] = df['coffee_name'].apply(categorize_coffee)"
   ]
  },
  {
   "cell_type": "code",
   "execution_count": 10,
   "id": "18d56b22-a071-4ce3-9f9a-b760b788a164",
   "metadata": {},
   "outputs": [],
   "source": [
    "df['payment_category'] = df['cash_type'].apply(lambda x: 'Card' if x.lower() == 'card' else 'Cash')"
   ]
  },
  {
   "cell_type": "code",
   "execution_count": 11,
   "id": "5eea8ab5-ba84-449f-93f5-41dbbd135efc",
   "metadata": {},
   "outputs": [],
   "source": [
    "#Divide transactions into Morning/Afternoon/Evening:\n",
    "def time_of_day(hour):\n",
    "    if 5 <= hour < 12:\n",
    "        return 'Morning'\n",
    "    elif 12 <= hour < 17:\n",
    "        return 'Afternoon'\n",
    "    elif 17 <= hour < 21:\n",
    "        return 'Evening'\n",
    "    else:\n",
    "        return 'Night'\n",
    "\n",
    "df['time_of_day'] = df['hour'].apply(time_of_day)\n"
   ]
  },
  {
   "cell_type": "code",
   "execution_count": 12,
   "id": "c2d5e460-35b7-4cbb-bc10-1ae93b7fd2c4",
   "metadata": {},
   "outputs": [],
   "source": [
    "df.to_csv(\"Cleaned_Dataset.csv\", index=False)"
   ]
  },
  {
   "cell_type": "code",
   "execution_count": null,
   "id": "df67cd7e-3901-406e-83db-cd2a3970a8e7",
   "metadata": {},
   "outputs": [],
   "source": []
  }
 ],
 "metadata": {
  "kernelspec": {
   "display_name": "Python [conda env:base] *",
   "language": "python",
   "name": "conda-base-py"
  },
  "language_info": {
   "codemirror_mode": {
    "name": "ipython",
    "version": 3
   },
   "file_extension": ".py",
   "mimetype": "text/x-python",
   "name": "python",
   "nbconvert_exporter": "python",
   "pygments_lexer": "ipython3",
   "version": "3.12.7"
  }
 },
 "nbformat": 4,
 "nbformat_minor": 5
}
