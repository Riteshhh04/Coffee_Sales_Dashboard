import pandas as pd

# Load the CSV file
df = pd.read_csv("Dataset.csv")

# View basic info
df.info()
df.head()


#Convert datetime Column to Datetime Format
df['datetime'] = pd.to_datetime(df['datetime'])



#Handle Missing Values in card Column
# Fill NaN card values with "Cash_Payment"
df['card'] = df['card'].fillna("Cash_Payment")


#Create New Feature Columns



df['hour'] = df['datetime'].dt.hour



df['day_of_week'] = df['datetime'].dt.day_name()


df['is_weekend'] = df['day_of_week'].isin(['Saturday', 'Sunday'])


def categorize_coffee(name):
    name = name.lower()
    
    if name in ['latte', 'cappuccino', 'americano with milk', 'cortado']:
        return 'Milk-based'
    elif name in ['americano', 'espresso']:
        return 'Espresso-based'
    elif name in ['hot chocolate', 'cocoa']:
        return 'Chocolate-based'
    else:
        return 'Other'



df['coffee_category'] = df['coffee_name'].apply(categorize_coffee)


df['payment_category'] = df['cash_type'].apply(lambda x: 'Card' if x.lower() == 'card' else 'Cash')


#Divide transactions into Morning/Afternoon/Evening:
def time_of_day(hour):
    if 5 <= hour < 12:
        return 'Morning'
    elif 12 <= hour < 17:
        return 'Afternoon'
    elif 17 <= hour < 21:
        return 'Evening'
    else:
        return 'Night'

df['time_of_day'] = df['hour'].apply(time_of_day)



df.to_csv("Cleaned_Dataset.csv", index=False)



